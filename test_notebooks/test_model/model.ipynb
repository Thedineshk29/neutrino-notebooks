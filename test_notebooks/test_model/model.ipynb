{
 "cells": [
  {
   "cell_type": "code",
   "execution_count": null,
   "metadata": {
    "collapsed": true
   },
   "outputs": [],
   "source": [
    "import numpy as np"
   ]
  },
  {
   "cell_type": "code",
   "execution_count": null,
   "outputs": [],
   "source": [
    "\"\"\"\n",
    "@HTTP GET /double_the_number/{x}\n",
    "\"\"\"\n",
    "def double_the_number(x: str) -> int:\n",
    "    \"\"\"\n",
    "    Function to double the given number.\n",
    "    :param x: Integer to be doubled\n",
    "    :return: The doubled value\n",
    "    \"\"\"\n",
    "    x = int(x)\n",
    "    return 2 * x"
   ],
   "metadata": {
    "collapsed": false
   }
  },
  {
   "cell_type": "code",
   "execution_count": null,
   "outputs": [],
   "source": [
    "\"\"\"\n",
    "@WS /listen_for_numbers/{name}\n",
    "Query:\n",
    "- q:str!\n",
    "- x:int?\n",
    "\"\"\"\n",
    "def handle_number_message(event: str, name: str, q: str, x: int) -> str:\n",
    "    \"\"\"\n",
    "    Function to handle incoming WebSocket messages containing numbers.\n",
    "    :param event: Incoming message (assumed to be a number in string format)\n",
    "    :param name: Room ID for the WebSocket channel\n",
    "    :param q: Query parameter\n",
    "    :param x: Query parameter\n",
    "    :return: None\n",
    "    \"\"\"\n",
    "    return \"hello\"\n"
   ],
   "metadata": {
    "collapsed": false
   }
  },
  {
   "cell_type": "code",
   "execution_count": null,
   "outputs": [],
   "source": [
    "\"\"\"\n",
    "@SCHEDULED\n",
    "Interval: 5s\n",
    "\"\"\"\n",
    "\n",
    "def my_hello_function():\n",
    "    \"\"\"\n",
    "    Function to print \"Hello, World!\" every 5 seconds.\n",
    "    :return: None\n",
    "    \"\"\"\n",
    "    print(\"Hello, World!\")"
   ],
   "metadata": {
    "collapsed": false
   }
  },
  {
   "cell_type": "code",
   "execution_count": null,
   "outputs": [],
   "source": [
    "\"\"\"\n",
    "@SCHEDULED\n",
    "Cron: 2 * * * * *\n",
    "\"\"\"\n",
    "\n",
    "def my_cron_function():\n",
    "    \"\"\"\n",
    "    Function to print \"Hello, World!\" every minute.\n",
    "    :return: None\n",
    "    \"\"\"\n",
    "    print(\"cron function!\")\n"
   ],
   "metadata": {
    "collapsed": false
   }
  }
 ],
 "metadata": {
  "kernelspec": {
   "display_name": "Python 3",
   "language": "python",
   "name": "python3"
  },
  "language_info": {
   "codemirror_mode": {
    "name": "ipython",
    "version": 2
   },
   "file_extension": ".py",
   "mimetype": "text/x-python",
   "name": "python",
   "nbconvert_exporter": "python",
   "pygments_lexer": "ipython2",
   "version": "2.7.6"
  }
 },
 "nbformat": 4,
 "nbformat_minor": 0
}
